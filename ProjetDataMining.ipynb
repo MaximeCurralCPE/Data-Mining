{
  "nbformat": 4,
  "nbformat_minor": 0,
  "metadata": {
    "colab": {
      "name": "ProjetDataMiningRomain.ipynb",
      "provenance": [],
      "collapsed_sections": [],
      "include_colab_link": true
    },
    "kernelspec": {
      "name": "python3",
      "display_name": "Python 3"
    },
    "language_info": {
      "name": "python"
    }
  },
  "cells": [
    {
      "cell_type": "markdown",
      "metadata": {
        "id": "view-in-github",
        "colab_type": "text"
      },
      "source": [
        "<a href=\"https://colab.research.google.com/github/MaximeCurralCPE/Data-Mining/blob/main/ProjetDataMining.ipynb\" target=\"_parent\"><img src=\"https://colab.research.google.com/assets/colab-badge.svg\" alt=\"Open In Colab\"/></a>"
      ]
    },
    {
      "cell_type": "markdown",
      "source": [
        ""
      ],
      "metadata": {
        "id": "OAcMjQang1kQ"
      }
    },
    {
      "cell_type": "markdown",
      "source": [
        "# Projet Data Mining\n",
        "\n",
        "Romain GAUD and Maxime Curral\n",
        "\n",
        "The main goal of this program is to use an image set from Intel to propose an image to a client based on his taste.\n",
        "\n",
        "The database used can be found [here](https://www.kaggle.com/datasets/puneet6060/intel-image-classification)\n",
        "\n",
        "The critera it is based upon are the following:\n",
        "\n",
        "\n",
        "*   The environment, which is determined by the name of the file containing the photo:\n",
        "  * 'buildings'\n",
        "  * 'forest'\n",
        "  * 'glacier'\n",
        "  * 'mountain'\n",
        "  * 'sea'\n",
        "  * 'street'\n",
        "*   The year, which will be a random value between 1995 and 2021,\n",
        "*   The photograph, which will be a random name selected from a list,\n",
        "*   The main color, determined by a k-mean algortihm.\n",
        "\n",
        "**NOTE:** Run the entire code for each block to work.\n",
        "\n",
        "\n",
        "\n"
      ],
      "metadata": {
        "id": "OfxiMwVdg25F"
      }
    },
    {
      "cell_type": "markdown",
      "source": [
        "## Used Libraries"
      ],
      "metadata": {
        "id": "Vyv-ju4lliFz"
      }
    },
    {
      "cell_type": "code",
      "source": [
        "import os\n",
        "from PIL import Image\n",
        "import numpy\n",
        "import math\n",
        "import pandas as pd\n",
        "import matplotlib.pyplot as plot\n",
        "from sklearn.cluster import KMeans\n",
        "import json\n",
        "import random\n",
        "from os.path import exists\n",
        "#from ipywidgets.widgets.widget_selection import ToggleButtons\n",
        "import matplotlib.pyplot as plt\n",
        "import matplotlib.image as mpimg\n",
        "#import ipywidgets as widgets\n",
        "#from IPython.display import clear_output\n",
        "import pandas as pd\n",
        "from sklearn.preprocessing import LabelEncoder\n",
        "from sklearn import tree\n",
        "from PIL import Image\n",
        "import warnings\n"
      ],
      "metadata": {
        "id": "bKZASXw8lhc7"
      },
      "execution_count": 79,
      "outputs": []
    },
    {
      "cell_type": "markdown",
      "source": [
        "## Gaussian distribution\n",
        "\n",
        "Using a gaussian distribution to randomly select the year of the photo"
      ],
      "metadata": {
        "id": "6lh8xWWONCme"
      }
    },
    {
      "cell_type": "code",
      "source": [
        "def getYear():\n",
        "    mu = 2007 # mean of 2007\n",
        "    sigma = 4 # change the year\n",
        "\n",
        "    min = 1990\n",
        "    max = 2022\n",
        "\n",
        "    ret=0\n",
        "    \n",
        "    while(not(min<=ret<=max)):\n",
        "      ret = math.floor(random.gauss(mu, sigma))\n",
        "    \n",
        "    return ret \n",
        "\n",
        "\"\"\"\n",
        "test = []\n",
        "\n",
        "for i in range(10000):\n",
        "  test.append(getYear())\n",
        "\n",
        "print(min(test))\n",
        "print(max(test))\n",
        "\"\"\""
      ],
      "metadata": {
        "colab": {
          "base_uri": "https://localhost:8080/",
          "height": 55
        },
        "id": "r4WQ_oAQNWFN",
        "outputId": "f1289d96-243a-4ebc-9eb1-b640ceb2aac1"
      },
      "execution_count": 80,
      "outputs": [
        {
          "output_type": "execute_result",
          "data": {
            "text/plain": [
              "'\\ntest = []\\n\\nfor i in range(10000):\\n  test.append(getYear())\\n\\nprint(min(test))\\nprint(max(test))\\n'"
            ],
            "application/vnd.google.colaboratory.intrinsic+json": {
              "type": "string"
            }
          },
          "metadata": {},
          "execution_count": 80
        }
      ]
    },
    {
      "cell_type": "code",
      "source": [
        "def getPhotographer():\n",
        "  photographer = [\"Romain\",\"Maxime\",\"Michel\",\"Denis\",\"Jaquie\",\"Fares\"]\n",
        "  return photographer[random.randint(0,len(photographer)-1)]"
      ],
      "metadata": {
        "id": "sm-VAYbVPeJq"
      },
      "execution_count": 81,
      "outputs": []
    },
    {
      "cell_type": "markdown",
      "source": [
        "## Data Collection\n",
        "**NOTE:** Works on a google colab python notebook.\n",
        "\n",
        "This part of the code is mostly extracted from [here](https://gist.github.com/jayspeidell/d10b84b8d3da52df723beacc5b15cb27)."
      ],
      "metadata": {
        "id": "zb9357hu9opK"
      }
    },
    {
      "cell_type": "markdown",
      "source": [
        "## First attempt: extracting the code from kaggle"
      ],
      "metadata": {
        "id": "5eIgJwKg5A6L"
      }
    },
    {
      "cell_type": "code",
      "source": [
        "\"\"\"\n",
        "!cd /\n",
        "!pip install kaggle # Installing the kaggle API to automatically update the dB\n",
        "\n",
        "api_token = {\"username\":\"romaingaud\",\"key\":\"a5d6baeac0e8b20f305272f58fc188df\"} #Create a new token for each usage\n",
        "# kaggle.com>Account>API>Create New API Token\n",
        "\n",
        "import json\n",
        "import zipfile\n",
        "import os\n",
        "\n",
        "\n",
        "!mkdir /content/images # Creating the folder were the raw data will be written\n",
        "!mkdir /root/.kaggle # Creating the folder to write the API token\n",
        "\n",
        "with open('/root/.kaggle/kaggle.json', 'w') as file: \n",
        "    json.dump(api_token, file)\n",
        "\n",
        "!chmod 600 /root/.kaggle/kaggle.json # Changing the permission on the kaggle file to protect it\n",
        "\n",
        "!kaggle config path -p /content \n",
        "!kaggle datasets download -d puneet6060/intel-image-classification # Downloading\n",
        "\n",
        "os.chdir('/content/images') # Changing folder to be in the raw data folder\n",
        "\n",
        "for file in os.listdir(): # Unzipping and adding the photo's to content/data/\n",
        "    zip_ref = zipfile.ZipFile(file, 'r')\n",
        "    zip_ref.extractall()\n",
        "    zip_ref.close()\n",
        "\n",
        "\"\"\""
      ],
      "metadata": {
        "colab": {
          "base_uri": "https://localhost:8080/",
          "height": 215
        },
        "id": "8iftyfmP0BF9",
        "outputId": "612229f5-7fbb-4823-a20c-8e7af7c0e634"
      },
      "execution_count": 82,
      "outputs": [
        {
          "output_type": "execute_result",
          "data": {
            "text/plain": [
              "'\\n!cd /\\n!pip install kaggle # Installing the kaggle API to automatically update the dB\\n\\napi_token = {\"username\":\"romaingaud\",\"key\":\"a5d6baeac0e8b20f305272f58fc188df\"} #Create a new token for each usage\\n# kaggle.com>Account>API>Create New API Token\\n\\nimport json\\nimport zipfile\\nimport os\\n\\n\\n!mkdir /content/images # Creating the folder were the raw data will be written\\n!mkdir /root/.kaggle # Creating the folder to write the API token\\n\\nwith open(\\'/root/.kaggle/kaggle.json\\', \\'w\\') as file: \\n    json.dump(api_token, file)\\n\\n!chmod 600 /root/.kaggle/kaggle.json # Changing the permission on the kaggle file to protect it\\n\\n!kaggle config path -p /content \\n!kaggle datasets download -d puneet6060/intel-image-classification # Downloading\\n\\nos.chdir(\\'/content/images\\') # Changing folder to be in the raw data folder\\n\\nfor file in os.listdir(): # Unzipping and adding the photo\\'s to content/data/\\n    zip_ref = zipfile.ZipFile(file, \\'r\\')\\n    zip_ref.extractall()\\n    zip_ref.close()\\n\\n'"
            ],
            "application/vnd.google.colaboratory.intrinsic+json": {
              "type": "string"
            }
          },
          "metadata": {},
          "execution_count": 82
        }
      ]
    },
    {
      "cell_type": "markdown",
      "source": [
        "\n",
        "## Using a git repository\n",
        "The code below is an alternate way to collect the images. We shall used it as extracting from kaggle requires asking each time for an API token."
      ],
      "metadata": {
        "id": "TKOGPOewRMbg"
      }
    },
    {
      "cell_type": "code",
      "source": [
        "!mkdir /content/images # Creating the folder were the raw data will be written\n",
        "os.chdir('/content/images') # Changing folder to be in the raw data folder\n",
        "! git clone https://github.com/MaximeCurralCPE/Data-Mining.git\n",
        "!mkdir /content/colors # Creating the folder were the raw data will be written\n",
        "os.chdir('/content/colors') # Changing folder to be in the raw data folder\n",
        "! git clone https://github.com/cheprasov/json-colors.git\n",
        "!mkdir /content/images/Data-Mining/archive/seg_tested # Creating the folder were the raw data will be written"
      ],
      "metadata": {
        "colab": {
          "base_uri": "https://localhost:8080/"
        },
        "id": "Uz3DK6N5RRD5",
        "outputId": "fcc27163-6a28-4c67-8db2-fa271c7fbd9f"
      },
      "execution_count": 83,
      "outputs": [
        {
          "output_type": "stream",
          "name": "stdout",
          "text": [
            "mkdir: cannot create directory ‘/content/images’: File exists\n",
            "fatal: destination path 'Data-Mining' already exists and is not an empty directory.\n",
            "mkdir: cannot create directory ‘/content/colors’: File exists\n",
            "fatal: destination path 'json-colors' already exists and is not an empty directory.\n",
            "mkdir: cannot create directory ‘/content/images/Data-Mining/archive/seg_tested’: File exists\n"
          ]
        }
      ]
    },
    {
      "cell_type": "markdown",
      "source": [
        "## Testing for EXIF\n",
        "\n",
        "The code here is used to test for exif. As Kaggle strips it's data of it, it is useless."
      ],
      "metadata": {
        "id": "zHU1GS3z5kPv"
      }
    },
    {
      "cell_type": "code",
      "source": [
        "\"\"\"\n",
        "!pip install Pillow\n",
        "!pip install exif\n",
        "!cd /content/images\n",
        "\n",
        "import PIL\n",
        "\n",
        "img = PIL.Image.open('/content/images/seg_pred/seg_pred/10004.jpg')\n",
        "print(img._getexif)\n",
        "exif_data = img._getexif()\n",
        "print(exif_data)\n",
        "\"\"\""
      ],
      "metadata": {
        "id": "RN7L01wmBeiH",
        "colab": {
          "base_uri": "https://localhost:8080/",
          "height": 72
        },
        "outputId": "a3874cad-616a-4794-d219-ab28856170de"
      },
      "execution_count": 84,
      "outputs": [
        {
          "output_type": "execute_result",
          "data": {
            "text/plain": [
              "\"\\n!pip install Pillow\\n!pip install exif\\n!cd /content/images\\n\\nimport PIL\\n\\nimg = PIL.Image.open('/content/images/seg_pred/seg_pred/10004.jpg')\\nprint(img._getexif)\\nexif_data = img._getexif()\\nprint(exif_data)\\n\""
            ],
            "application/vnd.google.colaboratory.intrinsic+json": {
              "type": "string"
            }
          },
          "metadata": {},
          "execution_count": 84
        }
      ]
    },
    {
      "cell_type": "markdown",
      "source": [
        "## Labeling and Annotation"
      ],
      "metadata": {
        "id": "YiNaIIc5znBs"
      }
    },
    {
      "cell_type": "markdown",
      "source": [
        "## Color block\n",
        "\n",
        "Ths block is tasked with associating an rgb value with a string color from a color json database. It shall then be used to analyse the image later."
      ],
      "metadata": {
        "id": "jfdpqt-y51Gp"
      }
    },
    {
      "cell_type": "code",
      "source": [
        "'''\n",
        "  Converts the rgb data to the closest color available.\n",
        "  @PARAM : rgb = array containing the colors between 0 and 255\n",
        "  @RET : a string with the name of the closest color\n",
        "'''\n",
        "def findName(rgb):\n",
        "  \n",
        "  dataframe=pd.read_json(\"/content/colors/json-colors/colors.json\") # Importing all the color names and putting them into a dataframe\n",
        "\n",
        "  dataframe['hex'] = dataframe['hex'].str[1:] # Taking out the hashtag out of the hex value\n",
        "\n",
        "  # The following lines extract the hex values and convert it to an int for each main color (red, blue and green).\n",
        "  # Then substracting it by the rgb values of the main color in the image\n",
        "  dataframe['r'] = abs(dataframe['hex'].str[:2].apply(int, base=16) - rgb[0])\n",
        "  dataframe['g'] = abs(dataframe['hex'].str[2:4].apply(int, base=16) - rgb[1])\n",
        "  dataframe['b'] = abs(dataframe['hex'].str[4:6].apply(int, base=16) - rgb[2])\n",
        "\n",
        "  dataframe['sum'] = (dataframe['r'] + dataframe['g'] + dataframe['b'])  # Summing the columns\n",
        "\n",
        "  df_main_color = dataframe.loc[dataframe['sum'] == dataframe['sum'].min()] # Getting the minimum value of the sum which would be the closest color to the one entered\n",
        "  \n",
        "  color_name = df_main_color.head().iloc[0]['name'] # Acessing the str value of the row containing the minimum value (taking the first one if there are multiple ones)\n",
        "  \n",
        "  return  color_name\n",
        "\n",
        "def getMainColor(image_analysis):\n",
        "  num = 1 # number of clusters given by user\n",
        "\n",
        "  imgfile = Image.open(image_analysis)\n",
        "\n",
        "  numarray = numpy.array(imgfile.getdata(), numpy.uint8)\n",
        "  clusters = KMeans(n_clusters = num) # adapting the algorithm to the number defined by the user\n",
        "  clusters.fit(numarray)\n",
        "\n",
        "  color_rgb = [\n",
        "    math.ceil(clusters.cluster_centers_[0][0]), \n",
        "    math.ceil(clusters.cluster_centers_[0][1]),\n",
        "    math.ceil(clusters.cluster_centers_[0][2])\n",
        "  ]\n",
        "\n",
        "  return findName(color_rgb)"
      ],
      "metadata": {
        "id": "Y_rqP7ZtTspy"
      },
      "execution_count": 85,
      "outputs": []
    },
    {
      "cell_type": "markdown",
      "source": [
        "## Saving the raw data as analysis"
      ],
      "metadata": {
        "id": "GWGXpkyJ6N9i"
      }
    },
    {
      "cell_type": "code",
      "source": [
        "def saveJSON(data,result):\n",
        "\n",
        "  for row in data: # Completing the data with random years and photographs\n",
        "    row.append(getYear())\n",
        "    row.append(getPhotographer())\n",
        "\n",
        "  dataframe=pd.DataFrame(data,\n",
        "                         columns=['environment','main_color','year','photographer'])\n",
        "  resultframe=pd.DataFrame(result,\n",
        "                           columns= ['result'])\n",
        "  \n",
        "  dataframe.to_json(\"/content/data.json\")\n",
        "  resultframe.to_json(\"/content/result.json\")"
      ],
      "metadata": {
        "id": "gzovyXPKz0jm"
      },
      "execution_count": 86,
      "outputs": []
    },
    {
      "cell_type": "markdown",
      "source": [
        "Another methode adding data to the file along the way for piwidget, did not work."
      ],
      "metadata": {
        "id": "L-1RsbJuJ0E0"
      }
    },
    {
      "cell_type": "code",
      "source": [
        "\"\"\"\n",
        "  for i in range(len(data[0])):\n",
        "    data[1].append(random.randint(1995,2021))\n",
        "    data[2].append(photographer[random.randint(0,len(photographer)-1)])\n",
        "\n",
        "def writeInfo(imgpath, environment, result):\n",
        "  # VARIABLES\n",
        "  \n",
        "  photographer = [\"Romain\",\"Maxime\",\"Michel\",\"Denis\",\"Jaquie\",\"Fares\"]\n",
        "  train_path = \"/content/images/Data-Mining/archive/seg_train/seg_train\"\n",
        "\n",
        "  # To add color ,getMainColor(imgpath)\n",
        "  data = [environment,random.randint(1995,2021),photographer[random.randint(0,len(photographer)-1)]]\n",
        "  result = [result]\n",
        "\n",
        "  if(not (exists(\"/content/data.json\") and exists(\"/content/result.json\"))):\n",
        "\n",
        "    dataframe=pd.read_json(\"/content/data.json\", orient='index')\n",
        "    resultframe=pd.read_json(\"/content/result.json\", orient='index')\n",
        "\n",
        "    print(dataframe)\n",
        "\n",
        "    dataframe.append(pd.DataFrame(data, index=\n",
        "                           ['environment','year','photographer']))\n",
        "                           \n",
        "    resultframe.append(pd.DataFrame(result,index=\n",
        "                           ['result']))\n",
        "    print(dataframe)\n",
        "    \n",
        "  \n",
        "  else:\n",
        "    # To add color ,'main_color'\n",
        "    dataframe=pd.DataFrame(data,index=\n",
        "                           ['environment','year','photographer'])\n",
        "    resultframe=pd.DataFrame(result,index=\n",
        "                           ['result'])\n",
        "\n",
        "  print(imgpath, environment, result)\n",
        "  json_data=''\n",
        "  json_result =''\n",
        "  dataframe.to_json(json_data)\n",
        "  print(json_data)\n",
        "  resultframe.to_json(\"/content/result.json\")\n",
        "\"\"\""
      ],
      "metadata": {
        "colab": {
          "base_uri": "https://localhost:8080/",
          "height": 215
        },
        "id": "vGOXQwAbJynn",
        "outputId": "e238664c-7cab-44f1-b7c6-f6e479962ef8"
      },
      "execution_count": 87,
      "outputs": [
        {
          "output_type": "execute_result",
          "data": {
            "text/plain": [
              "'\\n  for i in range(len(data[0])):\\n    data[1].append(random.randint(1995,2021))\\n    data[2].append(photographer[random.randint(0,len(photographer)-1)])\\n\\ndef writeInfo(imgpath, environment, result):\\n  # VARIABLES\\n  \\n  photographer = [\"Romain\",\"Maxime\",\"Michel\",\"Denis\",\"Jaquie\",\"Fares\"]\\n  train_path = \"/content/images/Data-Mining/archive/seg_train/seg_train\"\\n\\n  # To add color ,getMainColor(imgpath)\\n  data = [environment,random.randint(1995,2021),photographer[random.randint(0,len(photographer)-1)]]\\n  result = [result]\\n\\n  if(not (exists(\"/content/data.json\") and exists(\"/content/result.json\"))):\\n\\n    dataframe=pd.read_json(\"/content/data.json\", orient=\\'index\\')\\n    resultframe=pd.read_json(\"/content/result.json\", orient=\\'index\\')\\n\\n    print(dataframe)\\n\\n    dataframe.append(pd.DataFrame(data, index=\\n                           [\\'environment\\',\\'year\\',\\'photographer\\']))\\n                           \\n    resultframe.append(pd.DataFrame(result,index=\\n                           [\\'result\\']))\\n    print(dataframe)\\n    \\n  \\n  else:\\n    # To add color ,\\'main_color\\'\\n    dataframe=pd.DataFrame(data,index=\\n                           [\\'environment\\',\\'year\\',\\'photographer\\'])\\n    resultframe=pd.DataFrame(result,index=\\n                           [\\'result\\'])\\n\\n  print(imgpath, environment, result)\\n  json_data=\\'\\'\\n  json_result =\\'\\'\\n  dataframe.to_json(json_data)\\n  print(json_data)\\n  resultframe.to_json(\"/content/result.json\")\\n'"
            ],
            "application/vnd.google.colaboratory.intrinsic+json": {
              "type": "string"
            }
          },
          "metadata": {},
          "execution_count": 87
        }
      ]
    },
    {
      "cell_type": "markdown",
      "source": [
        "## Data Analyses"
      ],
      "metadata": {
        "id": "FnNzJZ0xzZMB"
      }
    },
    {
      "cell_type": "markdown",
      "source": [
        "We want the user to like or dislike a few images among those in the *seg_train* folder. Once they have liked/disliked 10 images, the algorithm below should be able to extract informations about the user's preferences such as their favorite environment or predominant color."
      ],
      "metadata": {
        "id": "OtOXxQaoQCE3"
      }
    },
    {
      "cell_type": "markdown",
      "source": [
        "## Person generated likes"
      ],
      "metadata": {
        "id": "8bihO-u_D3kW"
      }
    },
    {
      "cell_type": "code",
      "source": [
        "def randomPicture():\n",
        "  global environment\n",
        "\n",
        "  #randomly select the environment from which we take the image\n",
        "  environment = random.choice(os.listdir(\"/content/images/Data-Mining/archive/seg_train\"))\n",
        "\n",
        "  filename_image = random.choice(os.listdir(\"/content/images/Data-Mining/archive/seg_train\" +\"/\"+ str(environment)))\n",
        "\n",
        "  #randomly select an image from the selected environment and display it to the user\n",
        "  imgpath = \"/content/images/Data-Mining/archive/seg_train\"+ \"/\" + str(environment) + \"/\" + filename_image\n",
        "\n",
        "  image = mpimg.imread(imgpath)\n",
        "  imgplot = plt.imshow(image)\n",
        "\n",
        "  return imgpath\n",
        "\n",
        "\n",
        "#ask the user if he likes the image\n",
        "def chooseLike():\n",
        "  data = []\n",
        "  result = []\n",
        "  flag = True\n",
        "\n",
        "  while flag:\n",
        "    path = randomPicture()\n",
        "\n",
        "    print(\"Choose if you like the picture or not: L or D\")\n",
        "    print(\"Type E to exit\")\n",
        "    \n",
        "    choice = input(\"\")\n",
        "\n",
        "    if choice in ['L','D','E']:\n",
        "      if choice == 'L':\n",
        "        result.append(['Like'])\n",
        "        data.append([environment,getMainColor(path)])\n",
        "      elif choice == 'D':\n",
        "        result.append(['Dislike'])\n",
        "        data.append([environment,getMainColor(path)])\n",
        "      else:\n",
        "        flag = False\n",
        "        saveJSON(data,result)\n",
        "    else:\n",
        "      print(\"Wrong choice\")\n"
      ],
      "metadata": {
        "id": "IFjmubr1P8Sx"
      },
      "execution_count": 88,
      "outputs": []
    },
    {
      "cell_type": "markdown",
      "source": [
        "Tried using piwidget, did not work out well"
      ],
      "metadata": {
        "id": "YeUA0k4LFQsZ"
      }
    },
    {
      "cell_type": "code",
      "source": [
        "\"\"\"\n",
        "def generateButton():\n",
        "    buttons_list = [ widgets.Button(description=\"Like\"), \n",
        "            widgets.Button(description=\"Dislike\"),\n",
        "            widgets.Button(description=\"Exit\")]\n",
        "    output = widgets.Output()\n",
        "\n",
        "    for i,button in enumerate(buttons_list):\n",
        "      display(button, output)\n",
        "      if i==0:\n",
        "        button.on_click(liked)\n",
        "      elif i==1:\n",
        "        button.on_click(disliked)\n",
        "      else:\n",
        "        button.on_click(exit)\n",
        "\n",
        "def nextPicture(comment):\n",
        "  data.append([environment])\n",
        "  result.append([comment])\n",
        "  print(data)\n",
        "  from google.colab import output\n",
        "  output.clear()\n",
        "  randomPicture()\n",
        "  generateButton()\n",
        "\"\"\"\n",
        "\"\"\"\n",
        "def liked(b):\n",
        "  nextPicture('Liked')\n",
        "\n",
        "def disliked(b):\n",
        "  nextPicture('Disliked')\n",
        "\n",
        "def exit(b):\n",
        "  saveJSON(data,result)\n",
        "\"\"\"\n"
      ],
      "metadata": {
        "colab": {
          "base_uri": "https://localhost:8080/",
          "height": 55
        },
        "id": "QOi0kfrkFNhA",
        "outputId": "9c214dd3-c721-4862-d983-ba9694933ab9"
      },
      "execution_count": 89,
      "outputs": [
        {
          "output_type": "execute_result",
          "data": {
            "text/plain": [
              "\"\\ndef liked(b):\\n  nextPicture('Liked')\\n\\ndef disliked(b):\\n  nextPicture('Disliked')\\n\\ndef exit(b):\\n  saveJSON(data,result)\\n\""
            ],
            "application/vnd.google.colaboratory.intrinsic+json": {
              "type": "string"
            }
          },
          "metadata": {},
          "execution_count": 89
        }
      ]
    },
    {
      "cell_type": "markdown",
      "source": [
        "## Algorithm generated likes\n",
        "\n",
        "To have more data available, it will simulate a person"
      ],
      "metadata": {
        "id": "TLjdUAnmENUo"
      }
    },
    {
      "cell_type": "code",
      "source": [
        "def simulateLike(limit):\n",
        "  data = []\n",
        "  result = []\n",
        "  choice = ['Like','Dislike']\n",
        " \n",
        "\n",
        "  for environment in os.listdir(\"/content/images/Data-Mining/archive/seg_train\"):\n",
        "    i=0\n",
        "    print(\"[$] Loaded %s\" %(environment,))\n",
        "    for image in os.listdir(\"/content/images/Data-Mining/archive/seg_train\" +\"/\"+ str(environment)):\n",
        "      i+=1\n",
        "      data.append([environment,getMainColor(\"/content/images/Data-Mining/archive/seg_train\" +\"/\"+ str(environment)+\"/\"+image)])\n",
        "      result.append([choice[random.randint(0,1)]])\n",
        "      if i==limit:\n",
        "        break\n",
        "  \n",
        "  saveJSON(data,result)\n"
      ],
      "metadata": {
        "id": "IxAUT0NNEMyM"
      },
      "execution_count": 90,
      "outputs": []
    },
    {
      "cell_type": "markdown",
      "source": [
        "## Choosing between person or simulation\n",
        "\n",
        "If you choose the simulation, you can put a limit on the number of images you wish to have of each environment, otherwise the time it takes the algorithm to run is very long."
      ],
      "metadata": {
        "id": "e4boeB7rFbcG"
      }
    },
    {
      "cell_type": "code",
      "source": [
        "simulate = True\n",
        "limit = 100\n",
        "\n",
        "if simulate:\n",
        "  simulateLike(limit)\n",
        "else:\n",
        "  chooseLike()"
      ],
      "metadata": {
        "colab": {
          "base_uri": "https://localhost:8080/"
        },
        "id": "n_AOs9lTFuGV",
        "outputId": "f13be528-758a-4fb2-8e45-46c0fa605534"
      },
      "execution_count": 91,
      "outputs": [
        {
          "output_type": "stream",
          "name": "stdout",
          "text": [
            "[$] Loaded buildings\n",
            "[$] Loaded street\n",
            "[$] Loaded sea\n",
            "[$] Loaded forest\n",
            "[$] Loaded glacier\n",
            "[$] Loaded mountain\n"
          ]
        }
      ]
    },
    {
      "cell_type": "markdown",
      "source": [
        "Generation d'une base de do"
      ],
      "metadata": {
        "id": "zLYXdskVyVJS"
      }
    },
    {
      "cell_type": "code",
      "source": [
        "dataframe=pd.read_json(\"/content/data.json\")\n",
        "resultframe=pd.read_json(\"/content/result.json\")\n",
        "#generating numerical labels\n",
        "\n",
        "print(dataframe)\n",
        "\n",
        "le2 = LabelEncoder()\n",
        "dataframe['environment'] = le2.fit_transform(dataframe['environment'])\n",
        "\n",
        "le3 = LabelEncoder()\n",
        "dataframe['year'] = le3.fit_transform(dataframe['year'])\n",
        "\n",
        "le4 = LabelEncoder()\n",
        "dataframe['photographer'] = le4.fit_transform(dataframe['photographer'])\n",
        "\n",
        "le5 = LabelEncoder()\n",
        "dataframe['main_color'] = le5.fit_transform(dataframe['main_color'])\n",
        "\n",
        "le6 = LabelEncoder()\n",
        "resultframe['result'] = le6.fit_transform(resultframe['result'])\n",
        "\n",
        "\n",
        "\n",
        "#Use of decision tree classifiers\n",
        "dtc = tree.DecisionTreeClassifier()\n",
        "dtc = dtc.fit(dataframe, resultframe)\n"
      ],
      "metadata": {
        "id": "-ymXpXlUWfTM",
        "colab": {
          "base_uri": "https://localhost:8080/"
        },
        "outputId": "70fcb43b-7c8d-4a43-8ad0-68c2968a057a"
      },
      "execution_count": 92,
      "outputs": [
        {
          "output_type": "stream",
          "name": "stdout",
          "text": [
            "    environment       main_color  year photographer\n",
            "0     buildings  AuroMetalSaurus  2003       Romain\n",
            "1     buildings   Gray-Asparagus  2008       Romain\n",
            "2     buildings           Nickel  2012       Maxime\n",
            "3     buildings             Gray  2008       Jaquie\n",
            "4     buildings     Quick Silver  2004        Denis\n",
            "..          ...              ...   ...          ...\n",
            "595    mountain           Nickel  2004       Maxime\n",
            "596    mountain         Dim Gray  2006       Maxime\n",
            "597    mountain      Outer Space  2009       Jaquie\n",
            "598    mountain      Black Olive  2006       Romain\n",
            "599    mountain      Davy's Grey  2001        Fares\n",
            "\n",
            "[600 rows x 4 columns]\n",
            "[0.18558687 0.45769975 0.26459636 0.09211702]\n"
          ]
        }
      ]
    },
    {
      "cell_type": "markdown",
      "source": [
        "## Data Visualization"
      ],
      "metadata": {
        "id": "Wz0XCdnRz4Do"
      }
    },
    {
      "cell_type": "markdown",
      "source": [
        "## The importance of each feature in the classification."
      ],
      "metadata": {
        "id": "6iqpyvcQYRBO"
      }
    },
    {
      "cell_type": "code",
      "source": [
        "plt.pie(dtc.feature_importances_,labels=['environment','main_color','year','photographer'])"
      ],
      "metadata": {
        "colab": {
          "base_uri": "https://localhost:8080/",
          "height": 389
        },
        "id": "fwriV3zkWIJU",
        "outputId": "8d3e080f-39c5-44ac-bfaa-d78223896c48"
      },
      "execution_count": 114,
      "outputs": [
        {
          "output_type": "execute_result",
          "data": {
            "text/plain": [
              "([<matplotlib.patches.Wedge at 0x7f09b665f550>,\n",
              "  <matplotlib.patches.Wedge at 0x7f09b665fa10>,\n",
              "  <matplotlib.patches.Wedge at 0x7f09b665f990>,\n",
              "  <matplotlib.patches.Wedge at 0x7f09b6a83ed0>],\n",
              " [Text(0.9182730754385315, 0.6056191533667517, 'environment'),\n",
              "  Text(-0.9448286290203411, 0.5632928738973562, 'main_color'),\n",
              "  Text(0.17606884038289045, -1.085817555322359, 'year'),\n",
              "  Text(1.0542586528202404, -0.3139087334778248, 'photographer')])"
            ]
          },
          "metadata": {},
          "execution_count": 114
        },
        {
          "output_type": "display_data",
          "data": {
            "text/plain": [
              "<Figure size 432x288 with 1 Axes>"
            ],
            "image/png": "[encoded data removed]"
          },
          "metadata": {}
        }
      ]
    },
    {
      "cell_type": "code",
      "source": [
        "def maketestDf(limit):\n",
        "  data = []\n",
        "  photographer = [\"Romain\",\"Maxime\",\"Michel\",\"Denis\",\"Jaquie\",\"Fares\"]\n",
        "\n",
        "  for environment in os.listdir(\"/content/images/Data-Mining/archive/seg_train\"):\n",
        "      i=0\n",
        "      print(\"[$] Loaded %s\" %(environment,))\n",
        "\n",
        "      for image in os.listdir(\"/content/images/Data-Mining/archive/seg_train\" +\"/\"+ str(environment)):\n",
        "        i+=1\n",
        "\n",
        "        info = [\n",
        "                environment+'/'+image, \n",
        "                environment, \n",
        "                getYear(),\n",
        "                getPhotographer(),\n",
        "                getMainColor(\"/content/images/Data-Mining/archive/seg_train/\"+environment+\"/\"+image)\n",
        "                ]\n",
        "\n",
        "        try:\n",
        "          with warnings.catch_warnings():\n",
        "            warnings.simplefilter(\"ignore\")\n",
        "            \n",
        "            prediction = dtc.predict(\n",
        "              [\n",
        "                  [\n",
        "                  le2.transform([info[1]])[0],\n",
        "                  le3.transform([info[2]])[0], \n",
        "                  le4.transform([info[3]])[0],\n",
        "                  le5.transform([info[4]])[0]\n",
        "                  ]\n",
        "              ])\n",
        "            \n",
        "            info.append(le6.inverse_transform(prediction)[0])\n",
        "\n",
        "            data.append(info)\n",
        "\n",
        "        except ValueError:\n",
        "          print(\"[$] An unseen variable has been detected. It will be ignored.\")\n",
        "          pass\n",
        "        \n",
        "        if i==limit:\n",
        "          break\n",
        "        \n",
        "  \n",
        "\n",
        "  return pd.DataFrame(data,\n",
        "                      columns = ['filename','environment','year','photographer','main_color','prediction'])\n"
      ],
      "metadata": {
        "id": "nvgHLPXpQTbs"
      },
      "execution_count": 93,
      "outputs": []
    },
    {
      "cell_type": "markdown",
      "source": [
        "Limit to gain some time: if you want more data, then put a higher number."
      ],
      "metadata": {
        "id": "lvT_bDAw-Oev"
      }
    },
    {
      "cell_type": "code",
      "source": [
        "limit = 10\n",
        "\n",
        "df = maketestDf(limit)"
      ],
      "metadata": {
        "id": "p206KKpp-YkN",
        "colab": {
          "base_uri": "https://localhost:8080/"
        },
        "outputId": "fa2793a7-24c9-473a-d338-6da2e9ab9041"
      },
      "execution_count": 109,
      "outputs": [
        {
          "output_type": "stream",
          "name": "stdout",
          "text": [
            "[$] Loaded buildings\n",
            "[$] Loaded street\n",
            "[$] Loaded sea\n",
            "[$] Loaded forest\n",
            "[$] Loaded glacier\n",
            "[$] Loaded mountain\n"
          ]
        }
      ]
    },
    {
      "cell_type": "markdown",
      "source": [
        "### Impact of the environment"
      ],
      "metadata": {
        "id": "oLT_Cn1e_gki"
      }
    },
    {
      "cell_type": "code",
      "source": [
        "grouped = df.groupby(['environment','prediction']).count() # Counting the number of Like/Dislike per environment\n",
        "grouped = grouped.rename(columns={'year':'count'})['count'].reset_index()\n",
        "grouped = grouped[grouped['prediction']=='Like']\n",
        "\n",
        "title = \"Number of picture liked for %s photo\" % (limit,)\n",
        "\n",
        "grouped.plot(x='environment', y='count', kind='bar',title=title)"
      ],
      "metadata": {
        "colab": {
          "base_uri": "https://localhost:8080/",
          "height": 350
        },
        "id": "p-0aHogH8hi3",
        "outputId": "4b890715-9ec0-4707-8ff5-f9ee2d8aa693"
      },
      "execution_count": 110,
      "outputs": [
        {
          "output_type": "execute_result",
          "data": {
            "text/plain": [
              "<matplotlib.axes._subplots.AxesSubplot at 0x7f09b59c18d0>"
            ]
          },
          "metadata": {},
          "execution_count": 110
        },
        {
          "output_type": "display_data",
          "data": {
            "text/plain": [
              "<Figure size 432x288 with 1 Axes>"
            ],
            "image/png": "[encoded data removed]"
          },
          "metadata": {
            "needs_background": "light"
          }
        }
      ]
    },
    {
      "cell_type": "markdown",
      "source": [
        "## Impact of the year\n",
        "\n",
        "**NOTE:** We did not succeed in putting a legend. You can however read the number on the graph and associate it to the year in the printed dataframe"
      ],
      "metadata": {
        "id": "73_FesMBFj0-"
      }
    },
    {
      "cell_type": "code",
      "source": [
        "grouped = df.groupby(['year','prediction']).count()\n",
        "grouped = grouped.rename(columns={'environment':'count'})['count'].reset_index()\n",
        "grouped = grouped[grouped['prediction']=='Like']\n",
        "del grouped['prediction']\n",
        "print(grouped)\n",
        "\n",
        "title = \"Most liked years for %s photo\" % (limit,)\n",
        "grouped.plot(y='count', x='year', kind='pie', title=title, legend=True)"
      ],
      "metadata": {
        "colab": {
          "base_uri": "https://localhost:8080/",
          "height": 342
        },
        "id": "fTh_xcm1_szn",
        "outputId": "986c569f-9f45-408b-ddea-c74fb840c823"
      },
      "execution_count": 113,
      "outputs": [
        {
          "output_type": "execute_result",
          "data": {
            "text/plain": [
              "<matplotlib.axes._subplots.AxesSubplot at 0x7f09b5cecc90>"
            ]
          },
          "metadata": {},
          "execution_count": 113
        },
        {
          "output_type": "display_data",
          "data": {
            "text/plain": [
              "<Figure size 432x288 with 1 Axes>"
            ],
            "image/png": "[encoded data removed]"
          },
          "metadata": {}
        }
      ]
    },
    {
      "cell_type": "markdown",
      "source": [
        "# Importance of the photographer"
      ],
      "metadata": {
        "id": "AvnVTDIrUMaf"
      }
    },
    {
      "cell_type": "code",
      "source": [
        "grouped = df.groupby(['photographer','prediction']).count() # Counting the number of Like/Dislike per environment\n",
        "grouped = grouped.rename(columns={'year':'count'})['count'].reset_index()\n",
        "grouped = grouped[grouped['prediction']=='Like']\n",
        "\n",
        "title = \"Number of picture liked for %s photo per photographer\" % (limit,)\n",
        "\n",
        "grouped.plot(x='photographer', y='count', kind='barh',title=title)"
      ],
      "metadata": {
        "colab": {
          "base_uri": "https://localhost:8080/",
          "height": 298
        },
        "id": "y_Nuk5HFUTg6",
        "outputId": "bfc2641f-d9dc-4717-e446-9b6937e99813"
      },
      "execution_count": 112,
      "outputs": [
        {
          "output_type": "execute_result",
          "data": {
            "text/plain": [
              "<matplotlib.axes._subplots.AxesSubplot at 0x7f09b6546050>"
            ]
          },
          "metadata": {},
          "execution_count": 112
        },
        {
          "output_type": "display_data",
          "data": {
            "text/plain": [
              "<Figure size 432x288 with 1 Axes>"
            ],
            "image/png": "[encoded data removed]"
          },
          "metadata": {
            "needs_background": "light"
          }
        }
      ]
    },
    {
      "cell_type": "markdown",
      "source": [
        "## Recommendation System"
      ],
      "metadata": {
        "id": "jmUMQlavz8Nf"
      }
    },
    {
      "cell_type": "markdown",
      "source": [
        "## Showing photos the client would like\n",
        "\n"
      ],
      "metadata": {
        "id": "q2jji5kZdspP"
      }
    },
    {
      "cell_type": "code",
      "source": [
        "df_liked = df[df['prediction']=='Like']\n",
        "\n",
        "first = df_liked.iloc[0]['filename']\n",
        "image = mpimg.imread(\"/content/images/Data-Mining/archive/seg_train/\"+first)\n",
        "imgplot = plt.imshow(image)"
      ],
      "metadata": {
        "colab": {
          "base_uri": "https://localhost:8080/",
          "height": 269
        },
        "id": "nqImg_Vag-Ul",
        "outputId": "ded2bb1b-c74d-49af-e5af-42b5d1cf3a8f"
      },
      "execution_count": 108,
      "outputs": [
        {
          "output_type": "display_data",
          "data": {
            "text/plain": [
              "<Figure size 432x288 with 1 Axes>"
            ],
            "image/png": "[encoded data removed]"
          },
          "metadata": {
            "needs_background": "light"
          }
        }
      ]
    },
    {
      "cell_type": "markdown",
      "source": [
        "## Report"
      ],
      "metadata": {
        "id": "UeKIwOur0G7k"
      }
    }
  ]
}